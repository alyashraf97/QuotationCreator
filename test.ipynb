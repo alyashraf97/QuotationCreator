{
 "cells": [
  {
   "cell_type": "code",
   "execution_count": 19,
   "metadata": {},
   "outputs": [],
   "source": [
    "import sqlite3\n",
    "\n",
    "\n",
    "\n",
    "con = sqlite3.connect(\"DB.db\")"
   ]
  },
  {
   "cell_type": "code",
   "execution_count": 22,
   "metadata": {},
   "outputs": [],
   "source": [
    "class Vendor:\n",
    "    def __init__(self,vendorData = None):\n",
    "        if(vendorData != None):\n",
    "            self.vendorName = vendorData[\"vendorName\"]\n",
    "            self.vendorComission = vendorData[\"vendorComission\"]\n",
    "            self.vendorPackingCost = vendorData[\"vendorPackingCost\"]\n",
    "            self.vendorShippingCost = vendorData[\"vendorShippingCost\"]\n",
    "            self.vendorCustoms = vendorData[\"vendorCustoms\"]\n",
    "            self.vendorCurrency = vendorData[\"vendorCurrency\"]\n",
    "            self.vendorLeadTime = vendorData[\"vendorLeadTime\"]"
   ]
  },
  {
   "cell_type": "code",
   "execution_count": 23,
   "metadata": {},
   "outputs": [
    {
     "name": "stdout",
     "output_type": "stream",
     "text": [
      "Vendor1\n",
      "Vendor Gaming\n"
     ]
    }
   ],
   "source": [
    "results = con.execute(\"Select * FROM Vendors\")\n",
    "\n",
    "vendors_array = []\n",
    "\n",
    "\n",
    "\n",
    "for row in results:\n",
    "    print(row[1])\n"
   ]
  }
 ],
 "metadata": {
  "kernelspec": {
   "display_name": "Python 3.10.7 64-bit",
   "language": "python",
   "name": "python3"
  },
  "language_info": {
   "codemirror_mode": {
    "name": "ipython",
    "version": 3
   },
   "file_extension": ".py",
   "mimetype": "text/x-python",
   "name": "python",
   "nbconvert_exporter": "python",
   "pygments_lexer": "ipython3",
   "version": "3.10.7"
  },
  "orig_nbformat": 4,
  "vscode": {
   "interpreter": {
    "hash": "1efa7a57e17dd95582ed77cf81adc870f4fe6a908bd602f5646df2763826e3eb"
   }
  }
 },
 "nbformat": 4,
 "nbformat_minor": 2
}

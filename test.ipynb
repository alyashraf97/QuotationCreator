{
 "cells": [
  {
   "cell_type": "code",
   "execution_count": 2,
   "metadata": {},
   "outputs": [],
   "source": [
    "import sqlite3\n",
    "\n",
    "\n",
    "\n",
    "con = sqlite3.connect(\"DB.db\")"
   ]
  },
  {
   "cell_type": "code",
   "execution_count": 3,
   "metadata": {},
   "outputs": [],
   "source": [
    "class Vendor:\n",
    "    def __init__(self,vendorData = None):\n",
    "        if(vendorData != None):\n",
    "            self.vendorName = vendorData[\"vendorName\"]\n",
    "            self.vendorComission = vendorData[\"vendorComission\"]\n",
    "            self.vendorPackingCost = vendorData[\"vendorPackingCost\"]\n",
    "            self.vendorShippingCost = vendorData[\"vendorShippingCost\"]\n",
    "            self.vendorCustoms = vendorData[\"vendorCustoms\"]\n",
    "            self.vendorCurrency = vendorData[\"vendorCurrency\"]\n",
    "            self.vendorLeadTime = vendorData[\"vendorLeadTime\"]"
   ]
  },
  {
   "cell_type": "code",
   "execution_count": 7,
   "metadata": {},
   "outputs": [
    {
     "name": "stdout",
     "output_type": "stream",
     "text": [
      "Vendor1\n",
      "Vendor Gaming\n"
     ]
    },
    {
     "ename": "TypeError",
     "evalue": "'NoneType' object is not subscriptable",
     "output_type": "error",
     "traceback": [
      "\u001b[1;31m---------------------------------------------------------------------------\u001b[0m",
      "\u001b[1;31mTypeError\u001b[0m                                 Traceback (most recent call last)",
      "Cell \u001b[1;32mIn [7], line 10\u001b[0m\n\u001b[0;32m      7\u001b[0m \u001b[38;5;28;01mfor\u001b[39;00m row \u001b[38;5;129;01min\u001b[39;00m results:\n\u001b[0;32m      8\u001b[0m     \u001b[38;5;28mprint\u001b[39m(row[\u001b[38;5;241m1\u001b[39m])\n\u001b[1;32m---> 10\u001b[0m \u001b[38;5;28mprint\u001b[39m(results\u001b[38;5;241m.\u001b[39mfetchone()[\u001b[38;5;241m0\u001b[39m])\n",
      "\u001b[1;31mTypeError\u001b[0m: 'NoneType' object is not subscriptable"
     ]
    }
   ],
   "source": [
    "results = con.execute(\"Select * FROM Vendors\")\n",
    "\n",
    "vendors_array = []\n",
    "\n",
    "\n",
    "\n",
    "for row in results:\n",
    "    print(row[1])\n",
    "\n",
    "print(results.fetchone()[0])"
   ]
  },
  {
   "cell_type": "code",
   "execution_count": 15,
   "metadata": {},
   "outputs": [
    {
     "name": "stdout",
     "output_type": "stream",
     "text": [
      "[]\n"
     ]
    }
   ],
   "source": [
    "result = con.cursor()\n",
    "#result.execute(\"Select * FROM Vendors WHERE ID={}\".format(0))\n",
    "result.execute(\"Select * FROM Vendors WHERE \")\n",
    "\n",
    "print(result.fetchall())"
   ]
  }
 ],
 "metadata": {
  "kernelspec": {
   "display_name": "Python 3.10.7 64-bit",
   "language": "python",
   "name": "python3"
  },
  "language_info": {
   "codemirror_mode": {
    "name": "ipython",
    "version": 3
   },
   "file_extension": ".py",
   "mimetype": "text/x-python",
   "name": "python",
   "nbconvert_exporter": "python",
   "pygments_lexer": "ipython3",
   "version": "3.10.7"
  },
  "orig_nbformat": 4,
  "vscode": {
   "interpreter": {
    "hash": "1efa7a57e17dd95582ed77cf81adc870f4fe6a908bd602f5646df2763826e3eb"
   }
  }
 },
 "nbformat": 4,
 "nbformat_minor": 2
}
